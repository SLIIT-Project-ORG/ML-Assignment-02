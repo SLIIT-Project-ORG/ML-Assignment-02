{
 "cells": [
  {
   "cell_type": "markdown",
   "metadata": {
    "id": "mKZ7jqmOfJet"
   },
   "source": [
    "# Import libraries"
   ]
  },
  {
   "cell_type": "code",
   "execution_count": 32,
   "metadata": {
    "id": "MkpZPTcyaTCk"
   },
   "outputs": [],
   "source": [
    "import pandas as pd\n",
    "import numpy as np\n",
    "import matplotlib.pyplot as plt\n",
    "from sklearn import preprocessing\n",
    "from sklearn.model_selection import train_test_split,GridSearchCV\n",
    "from sklearn.pipeline import make_pipeline\n",
    "from sklearn import linear_model, ensemble\n",
    "from sklearn.preprocessing import StandardScaler, MinMaxScaler\n",
    "from sklearn.svm import SVC\n",
    "from sklearn import svm\n",
    "from sklearn.ensemble import RandomForestRegressor\n",
    "from sklearn.ensemble import RandomForestClassifier\n",
    "from sklearn.metrics import accuracy_score\n",
    "from sklearn.neighbors import KNeighborsClassifier\n",
    "import seaborn as sns\n",
    "from sklearn.metrics import confusion_matrix,classification_report\n",
    "from sklearn.tree import DecisionTreeClassifier\n",
    "from sklearn.ensemble import RandomForestClassifier, BaggingClassifier\n",
    "from sklearn.pipeline import make_pipeline,Pipeline\n"
   ]
  },
  {
   "cell_type": "code",
   "execution_count": 33,
   "metadata": {
    "colab": {
     "base_uri": "https://localhost:8080/"
    },
    "id": "pf-twpfjhH1U",
    "outputId": "82933f9b-b59e-4bfb-b8c1-31fa89fc87f9"
   },
   "outputs": [
    {
     "data": {
      "text/plain": [
       "Index(['N', 'P', 'K', 'temperature', 'humidity', 'ph', 'rainfall', 'label'], dtype='object')"
      ]
     },
     "execution_count": 33,
     "metadata": {},
     "output_type": "execute_result"
    }
   ],
   "source": [
    "#Loading the dataset\n",
    "dataset = pd.read_csv(\"{Dataset Path}\\Crop_recommendation.csv\");\n",
    "dataset.columns"
   ]
  },
  {
   "cell_type": "code",
   "execution_count": 34,
   "metadata": {
    "id": "d_SgvMOupJfH"
   },
   "outputs": [
    {
     "name": "stdout",
     "output_type": "stream",
     "text": [
      "Dataframe shape :  (2200, 8)\n"
     ]
    }
   ],
   "source": [
    "#Print Data shape\n",
    "print(\"Dataframe shape : \" , dataset.shape)"
   ]
  },
  {
   "cell_type": "code",
   "execution_count": 35,
   "metadata": {
    "id": "NCCsc8vk2Y9B"
   },
   "outputs": [
    {
     "data": {
      "text/html": [
       "<div>\n",
       "<style scoped>\n",
       "    .dataframe tbody tr th:only-of-type {\n",
       "        vertical-align: middle;\n",
       "    }\n",
       "\n",
       "    .dataframe tbody tr th {\n",
       "        vertical-align: top;\n",
       "    }\n",
       "\n",
       "    .dataframe thead th {\n",
       "        text-align: right;\n",
       "    }\n",
       "</style>\n",
       "<table border=\"1\" class=\"dataframe\">\n",
       "  <thead>\n",
       "    <tr style=\"text-align: right;\">\n",
       "      <th></th>\n",
       "      <th>N</th>\n",
       "      <th>P</th>\n",
       "      <th>K</th>\n",
       "      <th>temperature</th>\n",
       "      <th>humidity</th>\n",
       "      <th>ph</th>\n",
       "      <th>rainfall</th>\n",
       "      <th>label</th>\n",
       "    </tr>\n",
       "  </thead>\n",
       "  <tbody>\n",
       "    <tr>\n",
       "      <th>0</th>\n",
       "      <td>90</td>\n",
       "      <td>42</td>\n",
       "      <td>43</td>\n",
       "      <td>20.879744</td>\n",
       "      <td>82.002744</td>\n",
       "      <td>6.502985</td>\n",
       "      <td>202.935536</td>\n",
       "      <td>rice</td>\n",
       "    </tr>\n",
       "    <tr>\n",
       "      <th>1</th>\n",
       "      <td>85</td>\n",
       "      <td>58</td>\n",
       "      <td>41</td>\n",
       "      <td>21.770462</td>\n",
       "      <td>80.319644</td>\n",
       "      <td>7.038096</td>\n",
       "      <td>226.655537</td>\n",
       "      <td>rice</td>\n",
       "    </tr>\n",
       "    <tr>\n",
       "      <th>2</th>\n",
       "      <td>60</td>\n",
       "      <td>55</td>\n",
       "      <td>44</td>\n",
       "      <td>23.004459</td>\n",
       "      <td>82.320763</td>\n",
       "      <td>7.840207</td>\n",
       "      <td>263.964248</td>\n",
       "      <td>rice</td>\n",
       "    </tr>\n",
       "    <tr>\n",
       "      <th>3</th>\n",
       "      <td>74</td>\n",
       "      <td>35</td>\n",
       "      <td>40</td>\n",
       "      <td>26.491096</td>\n",
       "      <td>80.158363</td>\n",
       "      <td>6.980401</td>\n",
       "      <td>242.864034</td>\n",
       "      <td>rice</td>\n",
       "    </tr>\n",
       "    <tr>\n",
       "      <th>4</th>\n",
       "      <td>78</td>\n",
       "      <td>42</td>\n",
       "      <td>42</td>\n",
       "      <td>20.130175</td>\n",
       "      <td>81.604873</td>\n",
       "      <td>7.628473</td>\n",
       "      <td>262.717340</td>\n",
       "      <td>rice</td>\n",
       "    </tr>\n",
       "  </tbody>\n",
       "</table>\n",
       "</div>"
      ],
      "text/plain": [
       "    N   P   K  temperature   humidity        ph    rainfall label\n",
       "0  90  42  43    20.879744  82.002744  6.502985  202.935536  rice\n",
       "1  85  58  41    21.770462  80.319644  7.038096  226.655537  rice\n",
       "2  60  55  44    23.004459  82.320763  7.840207  263.964248  rice\n",
       "3  74  35  40    26.491096  80.158363  6.980401  242.864034  rice\n",
       "4  78  42  42    20.130175  81.604873  7.628473  262.717340  rice"
      ]
     },
     "execution_count": 35,
     "metadata": {},
     "output_type": "execute_result"
    }
   ],
   "source": [
    "#Show a headers in dataset\n",
    "dataset.head()"
   ]
  },
  {
   "cell_type": "code",
   "execution_count": 36,
   "metadata": {
    "id": "2P9lTIZkpmYZ"
   },
   "outputs": [
    {
     "data": {
      "text/plain": [
       "N              0\n",
       "P              0\n",
       "K              0\n",
       "temperature    0\n",
       "humidity       0\n",
       "ph             0\n",
       "rainfall       0\n",
       "label          0\n",
       "dtype: int64"
      ]
     },
     "execution_count": 36,
     "metadata": {},
     "output_type": "execute_result"
    }
   ],
   "source": [
    "# Check missing values\n",
    "dataset.isna().sum()"
   ]
  },
  {
   "cell_type": "code",
   "execution_count": 37,
   "metadata": {
    "id": "g-fCI0n_qLjd"
   },
   "outputs": [
    {
     "data": {
      "text/plain": [
       "rice           100\n",
       "maize          100\n",
       "jute           100\n",
       "cotton         100\n",
       "coconut        100\n",
       "papaya         100\n",
       "orange         100\n",
       "apple          100\n",
       "muskmelon      100\n",
       "watermelon     100\n",
       "grapes         100\n",
       "mango          100\n",
       "banana         100\n",
       "pomegranate    100\n",
       "lentil         100\n",
       "blackgram      100\n",
       "mungbean       100\n",
       "mothbeans      100\n",
       "pigeonpeas     100\n",
       "kidneybeans    100\n",
       "chickpea       100\n",
       "coffee         100\n",
       "Name: label, dtype: int64"
      ]
     },
     "execution_count": 37,
     "metadata": {},
     "output_type": "execute_result"
    }
   ],
   "source": [
    "#Lable names and value counts\n",
    "dataset['label'].value_counts()"
   ]
  },
  {
   "cell_type": "code",
   "execution_count": 38,
   "metadata": {
    "id": "7UUyuaro5CpX"
   },
   "outputs": [
    {
     "data": {
      "text/plain": [
       "N              False\n",
       "P              False\n",
       "K              False\n",
       "temperature    False\n",
       "humidity       False\n",
       "ph             False\n",
       "rainfall       False\n",
       "label          False\n",
       "dtype: bool"
      ]
     },
     "execution_count": 38,
     "metadata": {},
     "output_type": "execute_result"
    }
   ],
   "source": [
    "#Check dataset has any null value\n",
    "dataset.isnull().any()"
   ]
  },
  {
   "cell_type": "code",
   "execution_count": 39,
   "metadata": {
    "id": "_vPT0HO95z94"
   },
   "outputs": [
    {
     "data": {
      "text/html": [
       "<div>\n",
       "<style scoped>\n",
       "    .dataframe tbody tr th:only-of-type {\n",
       "        vertical-align: middle;\n",
       "    }\n",
       "\n",
       "    .dataframe tbody tr th {\n",
       "        vertical-align: top;\n",
       "    }\n",
       "\n",
       "    .dataframe thead th {\n",
       "        text-align: right;\n",
       "    }\n",
       "</style>\n",
       "<table border=\"1\" class=\"dataframe\">\n",
       "  <thead>\n",
       "    <tr style=\"text-align: right;\">\n",
       "      <th></th>\n",
       "      <th>K</th>\n",
       "      <th>N</th>\n",
       "      <th>P</th>\n",
       "      <th>humidity</th>\n",
       "      <th>ph</th>\n",
       "      <th>rainfall</th>\n",
       "      <th>temperature</th>\n",
       "    </tr>\n",
       "    <tr>\n",
       "      <th>label</th>\n",
       "      <th></th>\n",
       "      <th></th>\n",
       "      <th></th>\n",
       "      <th></th>\n",
       "      <th></th>\n",
       "      <th></th>\n",
       "      <th></th>\n",
       "    </tr>\n",
       "  </thead>\n",
       "  <tbody>\n",
       "    <tr>\n",
       "      <th>apple</th>\n",
       "      <td>199.89</td>\n",
       "      <td>20.80</td>\n",
       "      <td>134.22</td>\n",
       "      <td>92.333383</td>\n",
       "      <td>5.929663</td>\n",
       "      <td>112.654779</td>\n",
       "      <td>22.630942</td>\n",
       "    </tr>\n",
       "    <tr>\n",
       "      <th>banana</th>\n",
       "      <td>50.05</td>\n",
       "      <td>100.23</td>\n",
       "      <td>82.01</td>\n",
       "      <td>80.358123</td>\n",
       "      <td>5.983893</td>\n",
       "      <td>104.626980</td>\n",
       "      <td>27.376798</td>\n",
       "    </tr>\n",
       "    <tr>\n",
       "      <th>blackgram</th>\n",
       "      <td>19.24</td>\n",
       "      <td>40.02</td>\n",
       "      <td>67.47</td>\n",
       "      <td>65.118426</td>\n",
       "      <td>7.133952</td>\n",
       "      <td>67.884151</td>\n",
       "      <td>29.973340</td>\n",
       "    </tr>\n",
       "    <tr>\n",
       "      <th>chickpea</th>\n",
       "      <td>79.92</td>\n",
       "      <td>40.09</td>\n",
       "      <td>67.79</td>\n",
       "      <td>16.860439</td>\n",
       "      <td>7.336957</td>\n",
       "      <td>80.058977</td>\n",
       "      <td>18.872847</td>\n",
       "    </tr>\n",
       "    <tr>\n",
       "      <th>coconut</th>\n",
       "      <td>30.59</td>\n",
       "      <td>21.98</td>\n",
       "      <td>16.93</td>\n",
       "      <td>94.844272</td>\n",
       "      <td>5.976562</td>\n",
       "      <td>175.686646</td>\n",
       "      <td>27.409892</td>\n",
       "    </tr>\n",
       "  </tbody>\n",
       "</table>\n",
       "</div>"
      ],
      "text/plain": [
       "                K       N       P   humidity        ph    rainfall  \\\n",
       "label                                                                \n",
       "apple      199.89   20.80  134.22  92.333383  5.929663  112.654779   \n",
       "banana      50.05  100.23   82.01  80.358123  5.983893  104.626980   \n",
       "blackgram   19.24   40.02   67.47  65.118426  7.133952   67.884151   \n",
       "chickpea    79.92   40.09   67.79  16.860439  7.336957   80.058977   \n",
       "coconut     30.59   21.98   16.93  94.844272  5.976562  175.686646   \n",
       "\n",
       "           temperature  \n",
       "label                   \n",
       "apple        22.630942  \n",
       "banana       27.376798  \n",
       "blackgram    29.973340  \n",
       "chickpea     18.872847  \n",
       "coconut      27.409892  "
      ]
     },
     "execution_count": 39,
     "metadata": {},
     "output_type": "execute_result"
    }
   ],
   "source": [
    "# Dataset Summary\n",
    "crop_summary = dataset.pivot_table(dataset, index =['label'],aggfunc = 'mean')\n",
    "crop_summary.head()"
   ]
  },
  {
   "cell_type": "code",
   "execution_count": 40,
   "metadata": {
    "id": "sOzSMxvn7Gmd"
   },
   "outputs": [
    {
     "data": {
      "text/html": [
       "<div>\n",
       "<style scoped>\n",
       "    .dataframe tbody tr th:only-of-type {\n",
       "        vertical-align: middle;\n",
       "    }\n",
       "\n",
       "    .dataframe tbody tr th {\n",
       "        vertical-align: top;\n",
       "    }\n",
       "\n",
       "    .dataframe thead th {\n",
       "        text-align: right;\n",
       "    }\n",
       "</style>\n",
       "<table border=\"1\" class=\"dataframe\">\n",
       "  <thead>\n",
       "    <tr style=\"text-align: right;\">\n",
       "      <th></th>\n",
       "      <th>N</th>\n",
       "      <th>P</th>\n",
       "      <th>K</th>\n",
       "      <th>temperature</th>\n",
       "      <th>humidity</th>\n",
       "      <th>ph</th>\n",
       "      <th>rainfall</th>\n",
       "    </tr>\n",
       "  </thead>\n",
       "  <tbody>\n",
       "    <tr>\n",
       "      <th>count</th>\n",
       "      <td>2200.000000</td>\n",
       "      <td>2200.000000</td>\n",
       "      <td>2200.000000</td>\n",
       "      <td>2200.000000</td>\n",
       "      <td>2200.000000</td>\n",
       "      <td>2200.000000</td>\n",
       "      <td>2200.000000</td>\n",
       "    </tr>\n",
       "    <tr>\n",
       "      <th>mean</th>\n",
       "      <td>50.551818</td>\n",
       "      <td>53.362727</td>\n",
       "      <td>48.149091</td>\n",
       "      <td>25.616244</td>\n",
       "      <td>71.481779</td>\n",
       "      <td>6.469480</td>\n",
       "      <td>103.463655</td>\n",
       "    </tr>\n",
       "    <tr>\n",
       "      <th>std</th>\n",
       "      <td>36.917334</td>\n",
       "      <td>32.985883</td>\n",
       "      <td>50.647931</td>\n",
       "      <td>5.063749</td>\n",
       "      <td>22.263812</td>\n",
       "      <td>0.773938</td>\n",
       "      <td>54.958389</td>\n",
       "    </tr>\n",
       "    <tr>\n",
       "      <th>min</th>\n",
       "      <td>0.000000</td>\n",
       "      <td>5.000000</td>\n",
       "      <td>5.000000</td>\n",
       "      <td>8.825675</td>\n",
       "      <td>14.258040</td>\n",
       "      <td>3.504752</td>\n",
       "      <td>20.211267</td>\n",
       "    </tr>\n",
       "    <tr>\n",
       "      <th>25%</th>\n",
       "      <td>21.000000</td>\n",
       "      <td>28.000000</td>\n",
       "      <td>20.000000</td>\n",
       "      <td>22.769375</td>\n",
       "      <td>60.261953</td>\n",
       "      <td>5.971693</td>\n",
       "      <td>64.551686</td>\n",
       "    </tr>\n",
       "    <tr>\n",
       "      <th>50%</th>\n",
       "      <td>37.000000</td>\n",
       "      <td>51.000000</td>\n",
       "      <td>32.000000</td>\n",
       "      <td>25.598693</td>\n",
       "      <td>80.473146</td>\n",
       "      <td>6.425045</td>\n",
       "      <td>94.867624</td>\n",
       "    </tr>\n",
       "    <tr>\n",
       "      <th>75%</th>\n",
       "      <td>84.250000</td>\n",
       "      <td>68.000000</td>\n",
       "      <td>49.000000</td>\n",
       "      <td>28.561654</td>\n",
       "      <td>89.948771</td>\n",
       "      <td>6.923643</td>\n",
       "      <td>124.267508</td>\n",
       "    </tr>\n",
       "    <tr>\n",
       "      <th>max</th>\n",
       "      <td>140.000000</td>\n",
       "      <td>145.000000</td>\n",
       "      <td>205.000000</td>\n",
       "      <td>43.675493</td>\n",
       "      <td>99.981876</td>\n",
       "      <td>9.935091</td>\n",
       "      <td>298.560117</td>\n",
       "    </tr>\n",
       "  </tbody>\n",
       "</table>\n",
       "</div>"
      ],
      "text/plain": [
       "                 N            P            K  temperature     humidity  \\\n",
       "count  2200.000000  2200.000000  2200.000000  2200.000000  2200.000000   \n",
       "mean     50.551818    53.362727    48.149091    25.616244    71.481779   \n",
       "std      36.917334    32.985883    50.647931     5.063749    22.263812   \n",
       "min       0.000000     5.000000     5.000000     8.825675    14.258040   \n",
       "25%      21.000000    28.000000    20.000000    22.769375    60.261953   \n",
       "50%      37.000000    51.000000    32.000000    25.598693    80.473146   \n",
       "75%      84.250000    68.000000    49.000000    28.561654    89.948771   \n",
       "max     140.000000   145.000000   205.000000    43.675493    99.981876   \n",
       "\n",
       "                ph     rainfall  \n",
       "count  2200.000000  2200.000000  \n",
       "mean      6.469480   103.463655  \n",
       "std       0.773938    54.958389  \n",
       "min       3.504752    20.211267  \n",
       "25%       5.971693    64.551686  \n",
       "50%       6.425045    94.867624  \n",
       "75%       6.923643   124.267508  \n",
       "max       9.935091   298.560117  "
      ]
     },
     "execution_count": 40,
     "metadata": {},
     "output_type": "execute_result"
    }
   ],
   "source": [
    "# Described Dataset\n",
    "dataset.describe()"
   ]
  },
  {
   "cell_type": "markdown",
   "metadata": {
    "id": "m_ih53ZV7Zw8"
   },
   "source": []
  },
  {
   "cell_type": "code",
   "execution_count": 41,
   "metadata": {
    "colab": {
     "base_uri": "https://localhost:8080/",
     "height": 812
    },
    "id": "5niyqr7V7d9q",
    "outputId": "8201cbd1-63e2-4c75-e6aa-912c71a86865"
   },
   "outputs": [
    {
     "data": {
      "image/png": "[encoded data removed]",
      "text/plain": [
       "<Figure size 1000x1000 with 2 Axes>"
      ]
     },
     "metadata": {},
     "output_type": "display_data"
    }
   ],
   "source": [
    "#Graph\n",
    "graph = dataset[['N', 'P', 'K', 'temperature','humidity','ph','rainfall']]\n",
    "graph.corr()\n",
    "plt.title('Correlation between different features \\n', fontsize=14)\n",
    "plt.imshow(graph.corr(), cmap='Spectral')\n",
    "plt.colorbar()\n",
    "plt.gcf().set_size_inches(10, 10)\n",
    "plt.xticks(range(len(graph.corr().columns)), graph.corr().columns)\n",
    "plt.yticks(range(len(graph.corr().columns)), graph.corr().columns)\n",
    "\n",
    "labels = graph.corr().values\n",
    "for a in range(labels.shape[0]):\n",
    "    for b in range(labels.shape[1]):\n",
    "        plt.text(a, b, '{:.2f}'.format(labels[b, a]), ha='center', va='center', color='black')\n",
    "plt.show()"
   ]
  },
  {
   "cell_type": "code",
   "execution_count": 42,
   "metadata": {
    "colab": {
     "base_uri": "https://localhost:8080/",
     "height": 472
    },
    "id": "iY90LRIgD7fI",
    "outputId": "7be7cf58-3b4a-4fe5-ed5c-bddf65592110"
   },
   "outputs": [
    {
     "data": {
      "image/png": "[encoded data removed]",
      "text/plain": [
       "<Figure size 640x480 with 1 Axes>"
      ]
     },
     "metadata": {},
     "output_type": "display_data"
    }
   ],
   "source": [
    "#Histogram\n",
    "population_N = dataset[\"N\"].tolist()\n",
    "\n",
    "bins = 8\n",
    "\n",
    "plt.hist(population_N, bins, histtype='bar', rwidth=0.8, color='green')\n",
    "\n",
    "plt.xlabel('N')\n",
    "plt.ylabel('Count')\n",
    "plt.title('Nitrogen Population')\n",
    "plt.show()"
   ]
  },
  {
   "cell_type": "code",
   "execution_count": 43,
   "metadata": {
    "id": "WyuvH4dtIag2"
   },
   "outputs": [
    {
     "data": {
      "image/png": "[encoded data removed]",
      "text/plain": [
       "<Figure size 640x480 with 1 Axes>"
      ]
     },
     "metadata": {},
     "output_type": "display_data"
    }
   ],
   "source": [
    "#Histogram\n",
    "population_P = dataset[\"P\"].tolist()\n",
    "\n",
    "bins = 8\n",
    "\n",
    "plt.hist(population_P, bins, histtype='bar', rwidth=0.8, color='red')\n",
    "\n",
    "plt.xlabel('P')\n",
    "plt.ylabel('Count')\n",
    "plt.title('Posparas Population')\n",
    "plt.show()"
   ]
  },
  {
   "cell_type": "code",
   "execution_count": 44,
   "metadata": {
    "id": "p6lu4hKIIq79"
   },
   "outputs": [
    {
     "data": {
      "image/png": "[encoded data removed]",
      "text/plain": [
       "<Figure size 640x480 with 1 Axes>"
      ]
     },
     "metadata": {},
     "output_type": "display_data"
    }
   ],
   "source": [
    "#Histogram\n",
    "population_K = dataset[\"K\"].tolist()\n",
    "\n",
    "bins = 8\n",
    "\n",
    "plt.hist(population_K, bins, histtype='bar', rwidth=0.8, color='orange')\n",
    "\n",
    "plt.xlabel('K')\n",
    "plt.ylabel('Count')\n",
    "plt.title('Potasium Population')\n",
    "plt.show()"
   ]
  },
  {
   "cell_type": "code",
   "execution_count": 45,
   "metadata": {
    "id": "IIryIgVIJF1g"
   },
   "outputs": [
    {
     "data": {
      "image/png": "[encoded data removed]",
      "text/plain": [
       "<Figure size 640x480 with 1 Axes>"
      ]
     },
     "metadata": {},
     "output_type": "display_data"
    }
   ],
   "source": [
    "#Histogram\n",
    "population_temp = dataset[\"temperature\"].tolist()\n",
    "\n",
    "bins = 8\n",
    "\n",
    "plt.hist(population_temp, bins, histtype='bar', rwidth=0.8, color='blue')\n",
    "\n",
    "plt.xlabel('Temperature')\n",
    "plt.ylabel('Count')\n",
    "plt.title('Temperature Population')\n",
    "plt.show()"
   ]
  },
  {
   "cell_type": "markdown",
   "metadata": {
    "id": "C0R52o8oHvh8"
   },
   "source": []
  },
  {
   "cell_type": "code",
   "execution_count": 46,
   "metadata": {
    "id": "wC_jmAR5HvFR"
   },
   "outputs": [
    {
     "data": {
      "image/png": "[encoded data removed]",
      "text/plain": [
       "<Figure size 640x480 with 1 Axes>"
      ]
     },
     "metadata": {},
     "output_type": "display_data"
    }
   ],
   "source": [
    "#Histogram\n",
    "population_hum = dataset[\"humidity\"].tolist()\n",
    "\n",
    "bins = 8\n",
    "\n",
    "plt.hist(population_hum, bins, histtype='bar', rwidth=0.8, color='purple')\n",
    "\n",
    "plt.xlabel('Humidity')\n",
    "plt.ylabel('Count')\n",
    "plt.title('Humidity Population')\n",
    "plt.show()"
   ]
  },
  {
   "cell_type": "code",
   "execution_count": 47,
   "metadata": {
    "id": "rsZPfzDiyGxW"
   },
   "outputs": [
    {
     "data": {
      "image/png": "[encoded data removed]",
      "text/plain": [
       "<Figure size 640x480 with 1 Axes>"
      ]
     },
     "metadata": {},
     "output_type": "display_data"
    }
   ],
   "source": [
    "#Histogram\n",
    "population_ph = dataset[\"ph\"].tolist()\n",
    "\n",
    "bins = 8\n",
    "\n",
    "plt.hist(population_ph, bins, histtype='bar', rwidth=0.8, color='darkorange')\n",
    "\n",
    "plt.xlabel('ph')\n",
    "plt.ylabel('Count')\n",
    "plt.title('PH Population')\n",
    "plt.show()"
   ]
  },
  {
   "cell_type": "markdown",
   "metadata": {
    "id": "_OxqmjcDHuoV"
   },
   "source": []
  },
  {
   "cell_type": "code",
   "execution_count": 48,
   "metadata": {
    "id": "8aY7UhTiymmU"
   },
   "outputs": [
    {
     "data": {
      "image/png": "[encoded data removed]",
      "text/plain": [
       "<Figure size 640x480 with 1 Axes>"
      ]
     },
     "metadata": {},
     "output_type": "display_data"
    }
   ],
   "source": [
    "#Histogram\n",
    "population_rain = dataset[\"rainfall\"].tolist()\n",
    "\n",
    "bins = 8\n",
    "\n",
    "plt.hist(population_rain, bins, histtype='bar', rwidth=0.8, color='skyblue')\n",
    "\n",
    "plt.xlabel('rainfall')\n",
    "plt.ylabel('Count')\n",
    "plt.title('RainFall Population')\n",
    "plt.show()"
   ]
  },
  {
   "cell_type": "code",
   "execution_count": 49,
   "metadata": {
    "id": "L2IidWuU1G8T"
   },
   "outputs": [
    {
     "data": {
      "text/plain": [
       "N              False\n",
       "P              False\n",
       "K              False\n",
       "temperature    False\n",
       "humidity       False\n",
       "ph             False\n",
       "rainfall       False\n",
       "label          False\n",
       "dtype: bool"
      ]
     },
     "execution_count": 49,
     "metadata": {},
     "output_type": "execute_result"
    }
   ],
   "source": [
    "#check missing or null values\n",
    "dataset.isnull().any()"
   ]
  },
  {
   "cell_type": "code",
   "execution_count": 50,
   "metadata": {
    "colab": {
     "base_uri": "https://localhost:8080/",
     "height": 200
    },
    "id": "YIck40UK10Ax",
    "outputId": "730e325e-b3bf-44e5-d354-291506fff8ae"
   },
   "outputs": [
    {
     "name": "stdout",
     "output_type": "stream",
     "text": [
      "Lower limit : 188.0  Upper limit :212.0\n",
      "Minimum value :195 Maximum Value : 205\n",
      "Lower limit Passes - No need to remove outlier\n",
      "Upper limit Passed - No need to remove outlier\n"
     ]
    }
   ],
   "source": [
    "#Detect and Remove Outliers\n",
    "\n",
    "def detect_outlier(x):\n",
    "  q1 = x.quantile(0.25)\n",
    "  q3 = x.quantile(0.75)\n",
    "\n",
    "  IQR = q3 - q1\n",
    "\n",
    "  lower_limit = q1 - (1.5 * IQR)\n",
    "  upper_limit = q3 + (1.5 * IQR)\n",
    "\n",
    "  print(f\"Lower limit : {lower_limit}  Upper limit :{upper_limit}\")\n",
    "  print(f\"Minimum value :{x.min()} Maximum Value : {x.max()}\")\n",
    "\n",
    "  for i in [x.min(), x.max()]:\n",
    "    if i == x.min():\n",
    "      if lower_limit > x.min():\n",
    "        print(\"Lower limit failed - Need to remove minimum Value\")\n",
    "      elif lower_limit <x.min():\n",
    "        print(\"Lower limit Passes - No need to remove outlier\")\n",
    "\n",
    "    elif i == x.max():\n",
    "         if upper_limit >x.max():\n",
    "           print(\"Upper limit Passed - No need to remove outlier\")\n",
    "         elif upper_limit <x.max():\n",
    "           print(\"Upper limit failed  - Need to remove maximum value\") \n",
    "\n",
    "detect_outlier(dataset['K'][dataset['label']== 'grapes'])             "
   ]
  },
  {
   "cell_type": "code",
   "execution_count": 51,
   "metadata": {
    "id": "dMcnGNv16AxA"
   },
   "outputs": [
    {
     "name": "stdout",
     "output_type": "stream",
     "text": [
      "crop : rice\n",
      "Lower limit : 32.0  Upper limit :48.0\n",
      "Minimum value :35 Maximum Value : 45\n",
      "Lower limit Passes - No need to remove outlier\n",
      "Upper limit Passed - No need to remove outlier\n",
      "-------------------------------------------------------------------------------\n",
      "crop : maize\n",
      "Lower limit : 9.5  Upper limit :29.5\n",
      "Minimum value :15 Maximum Value : 25\n",
      "Lower limit Passes - No need to remove outlier\n",
      "Upper limit Passed - No need to remove outlier\n",
      "-------------------------------------------------------------------------------\n",
      "crop : chickpea\n",
      "Lower limit : 68.0  Upper limit :92.0\n",
      "Minimum value :75 Maximum Value : 85\n",
      "Lower limit Passes - No need to remove outlier\n",
      "Upper limit Passed - No need to remove outlier\n",
      "-------------------------------------------------------------------------------\n",
      "crop : kidneybeans\n",
      "Lower limit : 9.125  Upper limit :30.125\n",
      "Minimum value :15 Maximum Value : 25\n",
      "Lower limit Passes - No need to remove outlier\n",
      "Upper limit Passed - No need to remove outlier\n",
      "-------------------------------------------------------------------------------\n",
      "crop : pigeonpeas\n",
      "Lower limit : 10.5  Upper limit :30.5\n",
      "Minimum value :15 Maximum Value : 25\n",
      "Lower limit Passes - No need to remove outlier\n",
      "Upper limit Passed - No need to remove outlier\n",
      "-------------------------------------------------------------------------------\n",
      "crop : mothbeans\n",
      "Lower limit : 10.5  Upper limit :30.5\n",
      "Minimum value :15 Maximum Value : 25\n",
      "Lower limit Passes - No need to remove outlier\n",
      "Upper limit Passed - No need to remove outlier\n",
      "-------------------------------------------------------------------------------\n",
      "crop : mungbean\n",
      "Lower limit : 9.5  Upper limit :29.5\n",
      "Minimum value :15 Maximum Value : 25\n",
      "Lower limit Passes - No need to remove outlier\n",
      "Upper limit Passed - No need to remove outlier\n",
      "-------------------------------------------------------------------------------\n",
      "crop : blackgram\n",
      "Lower limit : 8.875  Upper limit :29.875\n",
      "Minimum value :15 Maximum Value : 25\n",
      "Lower limit Passes - No need to remove outlier\n",
      "Upper limit Passed - No need to remove outlier\n",
      "-------------------------------------------------------------------------------\n",
      "crop : lentil\n",
      "Lower limit : 9.5  Upper limit :29.5\n",
      "Minimum value :15 Maximum Value : 25\n",
      "Lower limit Passes - No need to remove outlier\n",
      "Upper limit Passed - No need to remove outlier\n",
      "-------------------------------------------------------------------------------\n",
      "crop : pomegranate\n",
      "Lower limit : 30.5  Upper limit :50.5\n",
      "Minimum value :35 Maximum Value : 45\n",
      "Lower limit Passes - No need to remove outlier\n",
      "Upper limit Passed - No need to remove outlier\n",
      "-------------------------------------------------------------------------------\n",
      "crop : banana\n",
      "Lower limit : 38.0  Upper limit :62.0\n",
      "Minimum value :45 Maximum Value : 55\n",
      "Lower limit Passes - No need to remove outlier\n",
      "Upper limit Passed - No need to remove outlier\n",
      "-------------------------------------------------------------------------------\n",
      "crop : mango\n",
      "Lower limit : 19.5  Upper limit :39.5\n",
      "Minimum value :25 Maximum Value : 35\n",
      "Lower limit Passes - No need to remove outlier\n",
      "Upper limit Passed - No need to remove outlier\n",
      "-------------------------------------------------------------------------------\n",
      "crop : grapes\n",
      "Lower limit : 188.0  Upper limit :212.0\n",
      "Minimum value :195 Maximum Value : 205\n",
      "Lower limit Passes - No need to remove outlier\n",
      "Upper limit Passed - No need to remove outlier\n",
      "-------------------------------------------------------------------------------\n",
      "crop : watermelon\n",
      "Lower limit : 38.0  Upper limit :62.0\n",
      "Minimum value :45 Maximum Value : 55\n",
      "Lower limit Passes - No need to remove outlier\n",
      "Upper limit Passed - No need to remove outlier\n",
      "-------------------------------------------------------------------------------\n",
      "crop : muskmelon\n",
      "Lower limit : 39.125  Upper limit :60.125\n",
      "Minimum value :45 Maximum Value : 55\n",
      "Lower limit Passes - No need to remove outlier\n",
      "Upper limit Passed - No need to remove outlier\n",
      "-------------------------------------------------------------------------------\n",
      "crop : apple\n",
      "Lower limit : 188.0  Upper limit :212.0\n",
      "Minimum value :195 Maximum Value : 205\n",
      "Lower limit Passes - No need to remove outlier\n",
      "Upper limit Passed - No need to remove outlier\n",
      "-------------------------------------------------------------------------------\n",
      "crop : orange\n",
      "Lower limit : 1.625  Upper limit :18.625\n",
      "Minimum value :5 Maximum Value : 15\n",
      "Lower limit Passes - No need to remove outlier\n",
      "Upper limit Passed - No need to remove outlier\n",
      "-------------------------------------------------------------------------------\n",
      "crop : papaya\n",
      "Lower limit : 39.5  Upper limit :59.5\n",
      "Minimum value :45 Maximum Value : 55\n",
      "Lower limit Passes - No need to remove outlier\n",
      "Upper limit Passed - No need to remove outlier\n",
      "-------------------------------------------------------------------------------\n",
      "crop : coconut\n",
      "Lower limit : 23.0  Upper limit :39.0\n",
      "Minimum value :25 Maximum Value : 35\n",
      "Lower limit Passes - No need to remove outlier\n",
      "Upper limit Passed - No need to remove outlier\n",
      "-------------------------------------------------------------------------------\n",
      "crop : cotton\n",
      "Lower limit : 9.5  Upper limit :29.5\n",
      "Minimum value :15 Maximum Value : 25\n",
      "Lower limit Passes - No need to remove outlier\n",
      "Upper limit Passed - No need to remove outlier\n",
      "-------------------------------------------------------------------------------\n",
      "crop : jute\n",
      "Lower limit : 28.0  Upper limit :52.0\n",
      "Minimum value :35 Maximum Value : 45\n",
      "Lower limit Passes - No need to remove outlier\n",
      "Upper limit Passed - No need to remove outlier\n",
      "-------------------------------------------------------------------------------\n",
      "crop : coffee\n",
      "Lower limit : 18.0  Upper limit :42.0\n",
      "Minimum value :25 Maximum Value : 35\n",
      "Lower limit Passes - No need to remove outlier\n",
      "Upper limit Passed - No need to remove outlier\n",
      "-------------------------------------------------------------------------------\n"
     ]
    }
   ],
   "source": [
    "#check limits\n",
    "for i in dataset['label'].unique():\n",
    "  print ('crop :',i)\n",
    "  detect_outlier(dataset['K'][dataset['label']==i])\n",
    "  print('-------------------------------------------------------------------------------')\n"
   ]
  },
  {
   "cell_type": "code",
   "execution_count": 52,
   "metadata": {
    "id": "5nTbH7Fh7ujj"
   },
   "outputs": [
    {
     "name": "stdout",
     "output_type": "stream",
     "text": [
      "Label length:  2200\n"
     ]
    }
   ],
   "source": [
    "#data preprocessing\n",
    "Y =dataset['label']\n",
    "encode = preprocessing.LabelEncoder()\n",
    "y = encode.fit_transform(Y)\n",
    "print(\"Label length: \",len(y))"
   ]
  },
  {
   "cell_type": "code",
   "execution_count": 53,
   "metadata": {
    "id": "W8hy2YaB93Tc"
   },
   "outputs": [
    {
     "name": "stdout",
     "output_type": "stream",
     "text": [
      "          N         P      K  temperature   humidity        ph    rainfall  \\\n",
      "0  0.642857  0.264286  0.190    20.879744  82.002744  6.502985  202.935536   \n",
      "1  0.607143  0.378571  0.180    21.770462  80.319644  7.038096  226.655537   \n",
      "2  0.428571  0.357143  0.195    23.004459  82.320763  7.840207  263.964248   \n",
      "3  0.528571  0.214286  0.175    26.491096  80.158363  6.980401  242.864034   \n",
      "4  0.557143  0.264286  0.185    20.130175  81.604873  7.628473  262.717340   \n",
      "\n",
      "  label  \n",
      "0  rice  \n",
      "1  rice  \n",
      "2  rice  \n",
      "3  rice  \n",
      "4  rice  \n"
     ]
    }
   ],
   "source": [
    "# Standerlization and Normalization\n",
    "\n",
    "# Extract the columns you want to standardize and normalize\n",
    "X = dataset[['K', 'N', 'P']]\n",
    "\n",
    "# Create scaler objects\n",
    "standard_scaler = StandardScaler()\n",
    "minmax_scaler = MinMaxScaler()\n",
    "\n",
    "# Standardize the data\n",
    "X_standardized = standard_scaler.fit_transform(X)\n",
    "\n",
    "# Normalize the data\n",
    "X_normalized = minmax_scaler.fit_transform(X_standardized)\n",
    "\n",
    "# Replace the original columns with the standardized and normalized columns\n",
    "dataset[['K', 'N', 'P']] = X_normalized\n",
    "\n",
    "# Print the first few rows of the standardized and normalized data\n",
    "print(dataset.head())\n",
    "\n"
   ]
  },
  {
   "cell_type": "code",
   "execution_count": 54,
   "metadata": {
    "colab": {
     "base_uri": "https://localhost:8080/",
     "height": 206
    },
    "id": "6_0ZWssLmJiL",
    "outputId": "abc7d8ff-e91a-4001-c975-ea94034437b1"
   },
   "outputs": [
    {
     "data": {
      "text/html": [
       "<div>\n",
       "<style scoped>\n",
       "    .dataframe tbody tr th:only-of-type {\n",
       "        vertical-align: middle;\n",
       "    }\n",
       "\n",
       "    .dataframe tbody tr th {\n",
       "        vertical-align: top;\n",
       "    }\n",
       "\n",
       "    .dataframe thead th {\n",
       "        text-align: right;\n",
       "    }\n",
       "</style>\n",
       "<table border=\"1\" class=\"dataframe\">\n",
       "  <thead>\n",
       "    <tr style=\"text-align: right;\">\n",
       "      <th></th>\n",
       "      <th>N</th>\n",
       "      <th>P</th>\n",
       "      <th>K</th>\n",
       "      <th>temperature</th>\n",
       "      <th>humidity</th>\n",
       "      <th>ph</th>\n",
       "      <th>rainfall</th>\n",
       "    </tr>\n",
       "  </thead>\n",
       "  <tbody>\n",
       "    <tr>\n",
       "      <th>0</th>\n",
       "      <td>0.642857</td>\n",
       "      <td>0.264286</td>\n",
       "      <td>0.190</td>\n",
       "      <td>20.879744</td>\n",
       "      <td>82.002744</td>\n",
       "      <td>6.502985</td>\n",
       "      <td>202.935536</td>\n",
       "    </tr>\n",
       "    <tr>\n",
       "      <th>1</th>\n",
       "      <td>0.607143</td>\n",
       "      <td>0.378571</td>\n",
       "      <td>0.180</td>\n",
       "      <td>21.770462</td>\n",
       "      <td>80.319644</td>\n",
       "      <td>7.038096</td>\n",
       "      <td>226.655537</td>\n",
       "    </tr>\n",
       "    <tr>\n",
       "      <th>2</th>\n",
       "      <td>0.428571</td>\n",
       "      <td>0.357143</td>\n",
       "      <td>0.195</td>\n",
       "      <td>23.004459</td>\n",
       "      <td>82.320763</td>\n",
       "      <td>7.840207</td>\n",
       "      <td>263.964248</td>\n",
       "    </tr>\n",
       "    <tr>\n",
       "      <th>3</th>\n",
       "      <td>0.528571</td>\n",
       "      <td>0.214286</td>\n",
       "      <td>0.175</td>\n",
       "      <td>26.491096</td>\n",
       "      <td>80.158363</td>\n",
       "      <td>6.980401</td>\n",
       "      <td>242.864034</td>\n",
       "    </tr>\n",
       "    <tr>\n",
       "      <th>4</th>\n",
       "      <td>0.557143</td>\n",
       "      <td>0.264286</td>\n",
       "      <td>0.185</td>\n",
       "      <td>20.130175</td>\n",
       "      <td>81.604873</td>\n",
       "      <td>7.628473</td>\n",
       "      <td>262.717340</td>\n",
       "    </tr>\n",
       "  </tbody>\n",
       "</table>\n",
       "</div>"
      ],
      "text/plain": [
       "          N         P      K  temperature   humidity        ph    rainfall\n",
       "0  0.642857  0.264286  0.190    20.879744  82.002744  6.502985  202.935536\n",
       "1  0.607143  0.378571  0.180    21.770462  80.319644  7.038096  226.655537\n",
       "2  0.428571  0.357143  0.195    23.004459  82.320763  7.840207  263.964248\n",
       "3  0.528571  0.214286  0.175    26.491096  80.158363  6.980401  242.864034\n",
       "4  0.557143  0.264286  0.185    20.130175  81.604873  7.628473  262.717340"
      ]
     },
     "execution_count": 54,
     "metadata": {},
     "output_type": "execute_result"
    }
   ],
   "source": [
    "#Model Training\n",
    "#Spliting Dataset\n",
    "x = dataset.drop(['label'],axis =1)\n",
    "x.head()"
   ]
  },
  {
   "cell_type": "code",
   "execution_count": 55,
   "metadata": {
    "colab": {
     "base_uri": "https://localhost:8080/"
    },
    "id": "ad0ZMOGxm3Rh",
    "outputId": "4704b809-2040-4c8b-e214-6f48d52c8f15"
   },
   "outputs": [
    {
     "name": "stdout",
     "output_type": "stream",
     "text": [
      "1650 1650 550 550\n"
     ]
    }
   ],
   "source": [
    "#train-test split\n",
    "Y = dataset['label']\n",
    "encode = preprocessing.LabelEncoder()\n",
    "y = encode.fit_transform(Y)\n",
    "X = dataset.drop('label', axis=1)\n",
    "x_train, x_test, y_train ,y_test = train_test_split(x,y)\n",
    "print(len(x_train),len(y_train),len(x_test),len(y_test))"
   ]
  },
  {
   "cell_type": "code",
   "execution_count": 56,
   "metadata": {
    "colab": {
     "base_uri": "https://localhost:8080/"
    },
    "id": "A-hEcCJctHLy",
    "outputId": "b78b89cd-65fe-4d3f-e9c9-37a116132504"
   },
   "outputs": [
    {
     "name": "stdout",
     "output_type": "stream",
     "text": [
      "SVM Accuracy Score of Test Data     :  0.9545454545454546\n",
      "SVM Accuracy Score of Training Data :  0.9703030303030303\n"
     ]
    }
   ],
   "source": [
    "# SVM Using Check Testing and Training data Accuracy\n",
    "svm_model =svm.SVC(kernel ='linear',)\n",
    "modelhistory =svm_model.fit(x_train,y_train)\n",
    "\n",
    "svm_x_train_predict = svm_model.predict(x_train)\n",
    "svm_train_accuracy = accuracy_score(y_train,svm_x_train_predict)\n",
    "\n",
    "svm_x_test_predict = svm_model.predict(x_test)\n",
    "svm_test_accuracy = accuracy_score(y_test,svm_x_test_predict)\n",
    "\n",
    "print('SVM Accuracy Score of Test Data     : ' ,svm_test_accuracy)\n",
    "print('SVM Accuracy Score of Training Data : ' ,svm_train_accuracy)\n",
    "# print('Predicted Values                : ' ,svm_x_test_predict)\n"
   ]
  },
  {
   "cell_type": "code",
   "execution_count": 57,
   "metadata": {
    "colab": {
     "base_uri": "https://localhost:8080/"
    },
    "id": "tLVdfMCOhBmG",
    "outputId": "9714da3f-7da7-4baa-96d8-1117311176cf"
   },
   "outputs": [
    {
     "name": "stdout",
     "output_type": "stream",
     "text": [
      "RF Training Accuracy              : 1.0\n",
      "RF Testing Accuracy               : 0.9945454545454545\n"
     ]
    }
   ],
   "source": [
    "# using Randomforestclassifier to  Check Testing and Training data Accuracy\n",
    "random_forest = RandomForestClassifier(n_estimators=100, random_state=42)\n",
    "random_forest.fit(x_train,y_train)\n",
    "\n",
    "rf_y_train_pred = random_forest.predict(x_train)\n",
    "rf_y_test_pred = random_forest.predict(x_test)\n",
    "\n",
    "rf_train_accuracy = accuracy_score(y_train, rf_y_train_pred)\n",
    "rf_test_accuracy = accuracy_score(y_test, rf_y_test_pred)\n",
    "\n",
    "print(\"RF Training Accuracy              :\", rf_train_accuracy)\n",
    "print(\"RF Testing Accuracy               :\", rf_test_accuracy)\n",
    "# print('Predicted Values               :', rf_y_test_pred)\n"
   ]
  },
  {
   "cell_type": "code",
   "execution_count": 58,
   "metadata": {
    "colab": {
     "base_uri": "https://localhost:8080/"
    },
    "id": "vfrkm2NUb7KT",
    "outputId": "b605a63f-6b73-4df7-acb1-b5f94e38f351",
    "scrolled": true
   },
   "outputs": [
    {
     "name": "stdout",
     "output_type": "stream",
     "text": [
      "KNN Training accuracy: 0.9272727272727272\n",
      "KNN Testing accuracy: 0.8636363636363636\n"
     ]
    },
    {
     "name": "stderr",
     "output_type": "stream",
     "text": [
      "D:\\Installation\\Anaconda\\lib\\site-packages\\sklearn\\neighbors\\_classification.py:228: FutureWarning: Unlike other reduction functions (e.g. `skew`, `kurtosis`), the default behavior of `mode` typically preserves the axis it acts along. In SciPy 1.11.0, this behavior will change: the default value of `keepdims` will become False, the `axis` over which the statistic is taken will be eliminated, and the value None will no longer be accepted. Set `keepdims` to True or False to avoid this warning.\n",
      "  mode, _ = stats.mode(_y[neigh_ind, k], axis=1)\n",
      "D:\\Installation\\Anaconda\\lib\\site-packages\\sklearn\\neighbors\\_classification.py:228: FutureWarning: Unlike other reduction functions (e.g. `skew`, `kurtosis`), the default behavior of `mode` typically preserves the axis it acts along. In SciPy 1.11.0, this behavior will change: the default value of `keepdims` will become False, the `axis` over which the statistic is taken will be eliminated, and the value None will no longer be accepted. Set `keepdims` to True or False to avoid this warning.\n",
      "  mode, _ = stats.mode(_y[neigh_ind, k], axis=1)\n"
     ]
    }
   ],
   "source": [
    "# KNN Algorithm Using Check Testing and Training data Accuracy\n",
    " \n",
    "knn_alogorithm = KNeighborsClassifier(n_neighbors=5) \n",
    "knn_alogorithm.fit(x_train, y_train)\n",
    " \n",
    "knn_y_train_pred = knn_alogorithm.predict(x_train)\n",
    "knn_y_test_pred = knn_alogorithm.predict(x_test)\n",
    " \n",
    "knn_train_accuracy = accuracy_score(y_train, knn_y_train_pred)\n",
    "knn_test_accuracy = accuracy_score(y_test, knn_y_test_pred)\n",
    "\n",
    "print(\"KNN Training accuracy:\", knn_train_accuracy)\n",
    "print(\"KNN Testing accuracy:\", knn_test_accuracy)\n",
    "# print(\"Predicted Values:\", y_test_pred)\n"
   ]
  },
  {
   "cell_type": "code",
   "execution_count": 59,
   "metadata": {},
   "outputs": [
    {
     "name": "stdout",
     "output_type": "stream",
     "text": [
      "Decision tree test accuracy  :  0.9781818181818182\n",
      "Decision tree train accuracy :  0.9915151515151515\n"
     ]
    }
   ],
   "source": [
    "# Decision Tree algorithm use to Check Testing and Training data Accuracy\n",
    "\n",
    "#Create decision tree model\n",
    "decision_tree = DecisionTreeClassifier(max_depth=8)\n",
    "\n",
    "#Fit training x and y sets\n",
    "decision_tree.fit(x_train,y_train)\n",
    "\n",
    "#Predict x test set\n",
    "dt_x_test_predict = decision_tree.predict(x_test)\n",
    "dt_test_accuracy = accuracy_score(y_test, dt_x_test_predict)\n",
    "\n",
    "#Predict x train set\n",
    "dt_x_train_predict = decision_tree.predict(x_train)\n",
    "dt_train_accuracy = accuracy_score(y_train,dt_x_train_predict)\n",
    "\n",
    "print(\"Decision tree test accuracy  : \", dt_test_accuracy)\n",
    "print(\"Decision tree train accuracy : \", dt_train_accuracy)\n"
   ]
  },
  {
   "cell_type": "code",
   "execution_count": 60,
   "metadata": {},
   "outputs": [],
   "source": [
    "#Dictionary\n",
    "\n",
    "grid = {\n",
    "    'svm_model':{\n",
    "        'model':SVC(gamma ='auto' , probability =True),\n",
    "        'params': {\n",
    "            'C': [0.1, 1, 10, 100],\n",
    "            'kernel': ['linear', 'rbf']\n",
    "        }\n",
    "    },\n",
    "    'random_forest':{\n",
    "        'model':RandomForestClassifier(),\n",
    "        'params': {\n",
    "            'n_estimators': [50, 100, 150, 200],\n",
    "            'max_depth': [5, 10, 15, 20],\n",
    "            'min_samples_split': [2, 5, 10, 15]\n",
    "        }\n",
    "    },\n",
    "    'knn_alogorithm':{\n",
    "        'model':KNeighborsClassifier(),\n",
    "        'params':{\n",
    "            'n_neighbors':[5,10,15,20],\n",
    "            'weights':['uniform','distance']\n",
    "        }\n",
    "    },\n",
    "    'decision_tree':{\n",
    "        'model':DecisionTreeClassifier(),\n",
    "        'params':{\n",
    "            'criterion':['gini','entropy'],\n",
    "            'max_depth':[5,10,15,20]\n",
    "        }\n",
    "    }\n",
    "}\n"
   ]
  },
  {
   "cell_type": "code",
   "execution_count": 62,
   "metadata": {},
   "outputs": [
    {
     "name": "stderr",
     "output_type": "stream",
     "text": [
      "D:\\Installation\\Anaconda\\lib\\site-packages\\sklearn\\neighbors\\_classification.py:228: FutureWarning: Unlike other reduction functions (e.g. `skew`, `kurtosis`), the default behavior of `mode` typically preserves the axis it acts along. In SciPy 1.11.0, this behavior will change: the default value of `keepdims` will become False, the `axis` over which the statistic is taken will be eliminated, and the value None will no longer be accepted. Set `keepdims` to True or False to avoid this warning.\n",
      "  mode, _ = stats.mode(_y[neigh_ind, k], axis=1)\n",
      "D:\\Installation\\Anaconda\\lib\\site-packages\\sklearn\\neighbors\\_classification.py:228: FutureWarning: Unlike other reduction functions (e.g. `skew`, `kurtosis`), the default behavior of `mode` typically preserves the axis it acts along. In SciPy 1.11.0, this behavior will change: the default value of `keepdims` will become False, the `axis` over which the statistic is taken will be eliminated, and the value None will no longer be accepted. Set `keepdims` to True or False to avoid this warning.\n",
      "  mode, _ = stats.mode(_y[neigh_ind, k], axis=1)\n",
      "D:\\Installation\\Anaconda\\lib\\site-packages\\sklearn\\neighbors\\_classification.py:228: FutureWarning: Unlike other reduction functions (e.g. `skew`, `kurtosis`), the default behavior of `mode` typically preserves the axis it acts along. In SciPy 1.11.0, this behavior will change: the default value of `keepdims` will become False, the `axis` over which the statistic is taken will be eliminated, and the value None will no longer be accepted. Set `keepdims` to True or False to avoid this warning.\n",
      "  mode, _ = stats.mode(_y[neigh_ind, k], axis=1)\n",
      "D:\\Installation\\Anaconda\\lib\\site-packages\\sklearn\\neighbors\\_classification.py:228: FutureWarning: Unlike other reduction functions (e.g. `skew`, `kurtosis`), the default behavior of `mode` typically preserves the axis it acts along. In SciPy 1.11.0, this behavior will change: the default value of `keepdims` will become False, the `axis` over which the statistic is taken will be eliminated, and the value None will no longer be accepted. Set `keepdims` to True or False to avoid this warning.\n",
      "  mode, _ = stats.mode(_y[neigh_ind, k], axis=1)\n",
      "D:\\Installation\\Anaconda\\lib\\site-packages\\sklearn\\neighbors\\_classification.py:228: FutureWarning: Unlike other reduction functions (e.g. `skew`, `kurtosis`), the default behavior of `mode` typically preserves the axis it acts along. In SciPy 1.11.0, this behavior will change: the default value of `keepdims` will become False, the `axis` over which the statistic is taken will be eliminated, and the value None will no longer be accepted. Set `keepdims` to True or False to avoid this warning.\n",
      "  mode, _ = stats.mode(_y[neigh_ind, k], axis=1)\n",
      "D:\\Installation\\Anaconda\\lib\\site-packages\\sklearn\\neighbors\\_classification.py:228: FutureWarning: Unlike other reduction functions (e.g. `skew`, `kurtosis`), the default behavior of `mode` typically preserves the axis it acts along. In SciPy 1.11.0, this behavior will change: the default value of `keepdims` will become False, the `axis` over which the statistic is taken will be eliminated, and the value None will no longer be accepted. Set `keepdims` to True or False to avoid this warning.\n",
      "  mode, _ = stats.mode(_y[neigh_ind, k], axis=1)\n",
      "D:\\Installation\\Anaconda\\lib\\site-packages\\sklearn\\neighbors\\_classification.py:228: FutureWarning: Unlike other reduction functions (e.g. `skew`, `kurtosis`), the default behavior of `mode` typically preserves the axis it acts along. In SciPy 1.11.0, this behavior will change: the default value of `keepdims` will become False, the `axis` over which the statistic is taken will be eliminated, and the value None will no longer be accepted. Set `keepdims` to True or False to avoid this warning.\n",
      "  mode, _ = stats.mode(_y[neigh_ind, k], axis=1)\n",
      "D:\\Installation\\Anaconda\\lib\\site-packages\\sklearn\\neighbors\\_classification.py:228: FutureWarning: Unlike other reduction functions (e.g. `skew`, `kurtosis`), the default behavior of `mode` typically preserves the axis it acts along. In SciPy 1.11.0, this behavior will change: the default value of `keepdims` will become False, the `axis` over which the statistic is taken will be eliminated, and the value None will no longer be accepted. Set `keepdims` to True or False to avoid this warning.\n",
      "  mode, _ = stats.mode(_y[neigh_ind, k], axis=1)\n",
      "D:\\Installation\\Anaconda\\lib\\site-packages\\sklearn\\neighbors\\_classification.py:228: FutureWarning: Unlike other reduction functions (e.g. `skew`, `kurtosis`), the default behavior of `mode` typically preserves the axis it acts along. In SciPy 1.11.0, this behavior will change: the default value of `keepdims` will become False, the `axis` over which the statistic is taken will be eliminated, and the value None will no longer be accepted. Set `keepdims` to True or False to avoid this warning.\n",
      "  mode, _ = stats.mode(_y[neigh_ind, k], axis=1)\n",
      "D:\\Installation\\Anaconda\\lib\\site-packages\\sklearn\\neighbors\\_classification.py:228: FutureWarning: Unlike other reduction functions (e.g. `skew`, `kurtosis`), the default behavior of `mode` typically preserves the axis it acts along. In SciPy 1.11.0, this behavior will change: the default value of `keepdims` will become False, the `axis` over which the statistic is taken will be eliminated, and the value None will no longer be accepted. Set `keepdims` to True or False to avoid this warning.\n",
      "  mode, _ = stats.mode(_y[neigh_ind, k], axis=1)\n",
      "D:\\Installation\\Anaconda\\lib\\site-packages\\sklearn\\neighbors\\_classification.py:228: FutureWarning: Unlike other reduction functions (e.g. `skew`, `kurtosis`), the default behavior of `mode` typically preserves the axis it acts along. In SciPy 1.11.0, this behavior will change: the default value of `keepdims` will become False, the `axis` over which the statistic is taken will be eliminated, and the value None will no longer be accepted. Set `keepdims` to True or False to avoid this warning.\n",
      "  mode, _ = stats.mode(_y[neigh_ind, k], axis=1)\n",
      "D:\\Installation\\Anaconda\\lib\\site-packages\\sklearn\\neighbors\\_classification.py:228: FutureWarning: Unlike other reduction functions (e.g. `skew`, `kurtosis`), the default behavior of `mode` typically preserves the axis it acts along. In SciPy 1.11.0, this behavior will change: the default value of `keepdims` will become False, the `axis` over which the statistic is taken will be eliminated, and the value None will no longer be accepted. Set `keepdims` to True or False to avoid this warning.\n",
      "  mode, _ = stats.mode(_y[neigh_ind, k], axis=1)\n",
      "D:\\Installation\\Anaconda\\lib\\site-packages\\sklearn\\neighbors\\_classification.py:228: FutureWarning: Unlike other reduction functions (e.g. `skew`, `kurtosis`), the default behavior of `mode` typically preserves the axis it acts along. In SciPy 1.11.0, this behavior will change: the default value of `keepdims` will become False, the `axis` over which the statistic is taken will be eliminated, and the value None will no longer be accepted. Set `keepdims` to True or False to avoid this warning.\n",
      "  mode, _ = stats.mode(_y[neigh_ind, k], axis=1)\n",
      "D:\\Installation\\Anaconda\\lib\\site-packages\\sklearn\\neighbors\\_classification.py:228: FutureWarning: Unlike other reduction functions (e.g. `skew`, `kurtosis`), the default behavior of `mode` typically preserves the axis it acts along. In SciPy 1.11.0, this behavior will change: the default value of `keepdims` will become False, the `axis` over which the statistic is taken will be eliminated, and the value None will no longer be accepted. Set `keepdims` to True or False to avoid this warning.\n",
      "  mode, _ = stats.mode(_y[neigh_ind, k], axis=1)\n",
      "D:\\Installation\\Anaconda\\lib\\site-packages\\sklearn\\neighbors\\_classification.py:228: FutureWarning: Unlike other reduction functions (e.g. `skew`, `kurtosis`), the default behavior of `mode` typically preserves the axis it acts along. In SciPy 1.11.0, this behavior will change: the default value of `keepdims` will become False, the `axis` over which the statistic is taken will be eliminated, and the value None will no longer be accepted. Set `keepdims` to True or False to avoid this warning.\n",
      "  mode, _ = stats.mode(_y[neigh_ind, k], axis=1)\n",
      "D:\\Installation\\Anaconda\\lib\\site-packages\\sklearn\\neighbors\\_classification.py:228: FutureWarning: Unlike other reduction functions (e.g. `skew`, `kurtosis`), the default behavior of `mode` typically preserves the axis it acts along. In SciPy 1.11.0, this behavior will change: the default value of `keepdims` will become False, the `axis` over which the statistic is taken will be eliminated, and the value None will no longer be accepted. Set `keepdims` to True or False to avoid this warning.\n",
      "  mode, _ = stats.mode(_y[neigh_ind, k], axis=1)\n",
      "D:\\Installation\\Anaconda\\lib\\site-packages\\sklearn\\neighbors\\_classification.py:228: FutureWarning: Unlike other reduction functions (e.g. `skew`, `kurtosis`), the default behavior of `mode` typically preserves the axis it acts along. In SciPy 1.11.0, this behavior will change: the default value of `keepdims` will become False, the `axis` over which the statistic is taken will be eliminated, and the value None will no longer be accepted. Set `keepdims` to True or False to avoid this warning.\n",
      "  mode, _ = stats.mode(_y[neigh_ind, k], axis=1)\n",
      "D:\\Installation\\Anaconda\\lib\\site-packages\\sklearn\\neighbors\\_classification.py:228: FutureWarning: Unlike other reduction functions (e.g. `skew`, `kurtosis`), the default behavior of `mode` typically preserves the axis it acts along. In SciPy 1.11.0, this behavior will change: the default value of `keepdims` will become False, the `axis` over which the statistic is taken will be eliminated, and the value None will no longer be accepted. Set `keepdims` to True or False to avoid this warning.\n",
      "  mode, _ = stats.mode(_y[neigh_ind, k], axis=1)\n",
      "D:\\Installation\\Anaconda\\lib\\site-packages\\sklearn\\neighbors\\_classification.py:228: FutureWarning: Unlike other reduction functions (e.g. `skew`, `kurtosis`), the default behavior of `mode` typically preserves the axis it acts along. In SciPy 1.11.0, this behavior will change: the default value of `keepdims` will become False, the `axis` over which the statistic is taken will be eliminated, and the value None will no longer be accepted. Set `keepdims` to True or False to avoid this warning.\n",
      "  mode, _ = stats.mode(_y[neigh_ind, k], axis=1)\n",
      "D:\\Installation\\Anaconda\\lib\\site-packages\\sklearn\\neighbors\\_classification.py:228: FutureWarning: Unlike other reduction functions (e.g. `skew`, `kurtosis`), the default behavior of `mode` typically preserves the axis it acts along. In SciPy 1.11.0, this behavior will change: the default value of `keepdims` will become False, the `axis` over which the statistic is taken will be eliminated, and the value None will no longer be accepted. Set `keepdims` to True or False to avoid this warning.\n",
      "  mode, _ = stats.mode(_y[neigh_ind, k], axis=1)\n"
     ]
    }
   ],
   "source": [
    "score=[]\n",
    "best_params = {}\n",
    "for algorithm in grid:\n",
    "    grid_search = GridSearchCV(grid[algorithm]['model'], grid[algorithm]['params'], cv=5, scoring='accuracy')\n",
    "    grid_search.fit(x_train, y_train)\n",
    "\n",
    "    score.append({\n",
    "        \"Model \":algorithm,\n",
    "        \"Best score \":accuracy_score(y_test, grid_search.predict(x_test)),\n",
    "        \"Best param \":grid_search.best_params_\n",
    "    })\n",
    "    best_params[algorithm] = grid_search.best_estimator_"
   ]
  },
  {
   "cell_type": "code",
   "execution_count": 63,
   "metadata": {},
   "outputs": [
    {
     "data": {
      "text/plain": [
       "[{'Model ': 'svm_model',\n",
       "  'Best score ': 0.98,\n",
       "  'Best param ': {'C': 100, 'kernel': 'linear'}},\n",
       " {'Model ': 'random_forest',\n",
       "  'Best score ': 0.9927272727272727,\n",
       "  'Best param ': {'max_depth': 20,\n",
       "   'min_samples_split': 10,\n",
       "   'n_estimators': 150}},\n",
       " {'Model ': 'knn_alogorithm',\n",
       "  'Best score ': 0.8690909090909091,\n",
       "  'Best param ': {'n_neighbors': 5, 'weights': 'distance'}},\n",
       " {'Model ': 'decision_tree',\n",
       "  'Best score ': 0.9781818181818182,\n",
       "  'Best param ': {'criterion': 'gini', 'max_depth': 15}}]"
      ]
     },
     "execution_count": 63,
     "metadata": {},
     "output_type": "execute_result"
    }
   ],
   "source": [
    "score"
   ]
  },
  {
   "cell_type": "code",
   "execution_count": 64,
   "metadata": {},
   "outputs": [
    {
     "data": {
      "text/html": [
       "<div>\n",
       "<style scoped>\n",
       "    .dataframe tbody tr th:only-of-type {\n",
       "        vertical-align: middle;\n",
       "    }\n",
       "\n",
       "    .dataframe tbody tr th {\n",
       "        vertical-align: top;\n",
       "    }\n",
       "\n",
       "    .dataframe thead th {\n",
       "        text-align: right;\n",
       "    }\n",
       "</style>\n",
       "<table border=\"1\" class=\"dataframe\">\n",
       "  <thead>\n",
       "    <tr style=\"text-align: right;\">\n",
       "      <th></th>\n",
       "      <th>Model</th>\n",
       "      <th>Best score</th>\n",
       "      <th>Best param</th>\n",
       "    </tr>\n",
       "  </thead>\n",
       "  <tbody>\n",
       "    <tr>\n",
       "      <th>0</th>\n",
       "      <td>svm_model</td>\n",
       "      <td>0.980000</td>\n",
       "      <td>{'C': 100, 'kernel': 'linear'}</td>\n",
       "    </tr>\n",
       "    <tr>\n",
       "      <th>1</th>\n",
       "      <td>random_forest</td>\n",
       "      <td>0.992727</td>\n",
       "      <td>{'max_depth': 20, 'min_samples_split': 10, 'n_...</td>\n",
       "    </tr>\n",
       "    <tr>\n",
       "      <th>2</th>\n",
       "      <td>knn_alogorithm</td>\n",
       "      <td>0.869091</td>\n",
       "      <td>{'n_neighbors': 5, 'weights': 'distance'}</td>\n",
       "    </tr>\n",
       "    <tr>\n",
       "      <th>3</th>\n",
       "      <td>decision_tree</td>\n",
       "      <td>0.978182</td>\n",
       "      <td>{'criterion': 'gini', 'max_depth': 15}</td>\n",
       "    </tr>\n",
       "  </tbody>\n",
       "</table>\n",
       "</div>"
      ],
      "text/plain": [
       "           Model   Best score   \\\n",
       "0       svm_model     0.980000   \n",
       "1   random_forest     0.992727   \n",
       "2  knn_alogorithm     0.869091   \n",
       "3   decision_tree     0.978182   \n",
       "\n",
       "                                         Best param   \n",
       "0                     {'C': 100, 'kernel': 'linear'}  \n",
       "1  {'max_depth': 20, 'min_samples_split': 10, 'n_...  \n",
       "2          {'n_neighbors': 5, 'weights': 'distance'}  \n",
       "3             {'criterion': 'gini', 'max_depth': 15}  "
      ]
     },
     "execution_count": 64,
     "metadata": {},
     "output_type": "execute_result"
    }
   ],
   "source": [
    "pd.DataFrame(score)"
   ]
  },
  {
   "cell_type": "code",
   "execution_count": 66,
   "metadata": {},
   "outputs": [
    {
     "data": {
      "text/plain": [
       "array([ 9,  5, 14, 16,  2, 21, 12,  7,  8, 10,  9,  6, 12,  0,  5,  9, 17,\n",
       "       12,  2, 10, 14, 17, 20, 20, 10,  1, 20, 21, 17, 19, 15, 19,  1,  3,\n",
       "        8, 11,  2,  7, 21,  9,  4, 21, 17, 18,  3,  8,  8, 18,  3, 13, 10,\n",
       "        5,  6,  7, 12, 18, 15, 18,  0, 15, 11,  8, 16, 13, 19, 11, 17,  3,\n",
       "        8, 11, 19,  7, 18,  6, 14,  7, 18,  8, 13,  6,  1,  4,  0, 15,  1,\n",
       "        0,  7, 13,  2, 12, 13,  6,  4, 18, 14, 14, 16, 19, 15, 12, 11, 19,\n",
       "        4,  6, 17,  2, 13, 14, 12, 20, 10,  8, 21,  5,  0,  2,  7, 17, 15,\n",
       "        4,  6,  1,  9,  0,  0, 20, 20,  3,  2,  3,  1,  7, 20, 17, 12,  5,\n",
       "        2, 16,  3, 11,  4, 13, 19, 17,  3,  3,  5, 12, 14,  4, 18, 20, 14,\n",
       "        5,  7, 19,  7,  0, 21, 16,  3, 13,  9, 19, 17, 21,  3,  9, 11, 19,\n",
       "       15, 17, 13, 14, 21, 19, 13, 14, 16, 18, 12, 15, 15, 21,  0,  0,  6,\n",
       "        7, 14,  4,  8, 14,  5,  7,  0, 19,  7, 17, 21, 17, 15,  2,  5,  4,\n",
       "        8, 18,  0,  6, 15, 13,  9,  1,  6,  2,  2, 21, 19,  6, 12, 13, 10,\n",
       "       17,  5, 17,  6, 19,  8, 11, 14,  6,  9, 17,  8, 10,  9, 15, 11,  4,\n",
       "        1, 10,  3, 17,  7, 18,  3,  7, 15,  3, 11, 18,  9, 14,  7, 14,  6,\n",
       "       20, 18, 12,  2, 19,  0, 14,  0, 17,  6, 19, 10,  6, 11, 15,  6, 18,\n",
       "        1, 20, 17,  0, 12,  5,  2, 11, 10, 18,  7, 13,  4, 18,  1,  1, 15,\n",
       "        0, 15,  0, 16, 10,  2,  3, 10, 10, 14,  2, 12,  5,  7, 12, 15,  6,\n",
       "       12,  8, 15,  2,  7, 12,  9, 21, 17,  5,  7, 19, 12, 16,  4, 15, 12,\n",
       "        7,  7, 16, 16,  3,  1, 18, 15,  4,  4,  5, 21,  3, 19, 15, 19,  2,\n",
       "        0,  6,  3, 16, 12, 11, 14, 11, 13, 18,  0, 15,  0,  8,  6, 13, 11,\n",
       "       20, 16, 10,  2, 20,  5,  7, 14, 14, 21, 14,  7, 13, 12,  8,  8, 17,\n",
       "        2,  5, 12, 15,  1, 20, 21,  0, 20, 18,  8,  7, 16, 10, 21, 14, 11,\n",
       "       14, 10,  7,  0,  2, 16, 18,  5, 20, 12, 12, 15,  9, 15, 12,  2, 21,\n",
       "        2, 14, 17,  3,  1,  2, 16,  2, 20,  7, 18,  8, 14, 19,  3, 11,  5,\n",
       "       13,  3, 16,  6, 13,  5, 20,  3, 19,  5,  0,  1, 16, 21, 18, 13,  1,\n",
       "       20, 20,  2, 12,  6, 14, 13,  2, 20, 19, 17,  9, 20,  2, 12, 18,  8,\n",
       "        7,  6,  9, 16,  1,  5,  4,  3, 13, 14, 13,  2, 16,  2,  6,  4,  0,\n",
       "       13, 13, 21, 16,  3, 19, 19,  7,  2, 11, 12, 11,  9, 19, 13, 10, 20,\n",
       "        4,  4, 13,  5, 10, 19,  6, 13,  8,  7, 21, 16, 21, 15,  0,  4, 18,\n",
       "       11,  9,  2, 16,  3,  0, 15,  1,  0, 13, 10,  5, 12, 17, 15, 19, 19,\n",
       "       13,  9, 10,  8, 18,  6, 16,  9, 16,  9,  9, 16, 18, 16,  7,  6,  5,\n",
       "       12,  1, 17, 10, 11, 19])"
      ]
     },
     "execution_count": 66,
     "metadata": {},
     "output_type": "execute_result"
    }
   ],
   "source": [
    "#Predicting Using Random Forest Classifier\n",
    "predicted_res = best_params['random_forest'].predict(x_test)\n",
    "predicted_res"
   ]
  },
  {
   "cell_type": "code",
   "execution_count": 67,
   "metadata": {},
   "outputs": [
    {
     "data": {
      "image/png": "[encoded data removed]",
      "text/plain": [
       "<Figure size 1200x800 with 2 Axes>"
      ]
     },
     "metadata": {},
     "output_type": "display_data"
    }
   ],
   "source": [
    "plt.figure(figsize=(12,8))\n",
    "plt.title('Predicting Using Random Forest Classifier')\n",
    "sns.heatmap(confusion_matrix(y_test,predicted_res),annot=True)\n",
    "plt.xlabel(\"Original\")\n",
    "plt.ylabel(\"Predicted\")\n",
    "plt.show()"
   ]
  },
  {
   "cell_type": "code",
   "execution_count": 70,
   "metadata": {},
   "outputs": [
    {
     "data": {
      "text/plain": [
       "0.9945454545454545"
      ]
     },
     "execution_count": 70,
     "metadata": {},
     "output_type": "execute_result"
    }
   ],
   "source": [
    "# Bagging\n",
    "\n",
    "# Create a Random Forest Classifier\n",
    "rfc = make_pipeline(preprocessing.StandardScaler(),RandomForestClassifier(n_estimators=10 ))\n",
    "\n",
    "# Create a Bagging Classifier with the Random Forest Classifier as the base estimator\n",
    "bag_rfc = BaggingClassifier(base_estimator=rfc, n_estimators=100,oob_score=True,random_state=0,max_samples=0.8)\n",
    "\n",
    "# Fit the Bagging Classifier to the training data\n",
    "bag_rfc.fit(x_train, y_train)\n",
    "\n",
    "BaggingClassifier(base_estimator=Pipeline(steps=[('standardscaler' ,StandardScaler()),('randomforestclassifier',RandomForestClassifier(n_estimators=10))]),max_samples=0.8,n_estimators=100,oob_score=True,random_state=0)\n",
    "\n",
    "# Make predictions on the training and testing data\n",
    "# train_pred = bag_rfc.predict(x_train)\n",
    "# test_pred = bag_rfc.predict(x_test)\n",
    "\n",
    "bag_rfc.score(x_test, y_test)"
   ]
  },
  {
   "cell_type": "code",
   "execution_count": 71,
   "metadata": {},
   "outputs": [
    {
     "name": "stdout",
     "output_type": "stream",
     "text": [
      "              precision    recall  f1-score   support\n",
      "\n",
      "           0       1.00      1.00      1.00        27\n",
      "           1       1.00      1.00      1.00        19\n",
      "           2       1.00      1.00      1.00        31\n",
      "           3       1.00      1.00      1.00        25\n",
      "           4       1.00      1.00      1.00        19\n",
      "           5       1.00      1.00      1.00        24\n",
      "           6       1.00      1.00      1.00        27\n",
      "           7       1.00      1.00      1.00        31\n",
      "           8       0.86      1.00      0.92        18\n",
      "           9       1.00      1.00      1.00        21\n",
      "          10       0.95      1.00      0.98        20\n",
      "          11       1.00      1.00      1.00        21\n",
      "          12       1.00      1.00      1.00        30\n",
      "          13       1.00      0.97      0.98        30\n",
      "          14       1.00      1.00      1.00        27\n",
      "          15       1.00      1.00      1.00        28\n",
      "          16       1.00      1.00      1.00        26\n",
      "          17       1.00      1.00      1.00        25\n",
      "          18       1.00      1.00      1.00        26\n",
      "          19       1.00      1.00      1.00        29\n",
      "          20       1.00      0.88      0.94        25\n",
      "          21       1.00      1.00      1.00        21\n",
      "\n",
      "    accuracy                           0.99       550\n",
      "   macro avg       0.99      0.99      0.99       550\n",
      "weighted avg       0.99      0.99      0.99       550\n",
      "\n"
     ]
    }
   ],
   "source": [
    "# Final Report\n",
    "\n",
    "print(classification_report(y_test,predicted_res))"
   ]
  }
 ],
 "metadata": {
  "colab": {
   "provenance": []
  },
  "kernelspec": {
   "display_name": "Python 3 (ipykernel)",
   "language": "python",
   "name": "python3"
  },
  "language_info": {
   "codemirror_mode": {
    "name": "ipython",
    "version": 3
   },
   "file_extension": ".py",
   "mimetype": "text/x-python",
   "name": "python",
   "nbconvert_exporter": "python",
   "pygments_lexer": "ipython3",
   "version": "3.9.13"
  }
 },
 "nbformat": 4,
 "nbformat_minor": 1
}
